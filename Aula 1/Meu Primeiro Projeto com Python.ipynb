{
 "cells": [
  {
   "cell_type": "markdown",
   "id": "33718027-efa5-4383-9fbb-4b3efb583294",
   "metadata": {},
   "source": [
    "# Meu Primeiro Projeto com Python"
   ]
  },
  {
   "cell_type": "markdown",
   "id": "fe39bc85-9864-4fc7-bd6f-64f2de8e9a1c",
   "metadata": {},
   "source": [
    "##Mostrando informações para o usuario"
   ]
  },
  {
   "cell_type": "code",
   "execution_count": 3,
   "id": "ccbf75a0-a040-45f3-9c4c-1805cc9ea2d4",
   "metadata": {},
   "outputs": [
    {
     "name": "stdout",
     "output_type": "stream",
     "text": [
      "Semana do python na prática\n",
      "Me chamo Samuel\n",
      "TO aprendendo novamente python\n"
     ]
    }
   ],
   "source": [
    "print(\"Semana do python na prática\")\n",
    "print(\"Me chamo Samuel\")\n",
    "print(\"TO aprendendo novamente python\")"
   ]
  },
  {
   "cell_type": "markdown",
   "id": "ba66a15d-9d6d-4f51-a35a-f6ae0f840ced",
   "metadata": {},
   "source": [
    "## entrada de dados do usuario"
   ]
  },
  {
   "cell_type": "markdown",
   "id": "150adefe-ac14-4049-b667-6f51060445e4",
   "metadata": {},
   "source": [
    "input(\"Digite seu  nome:\")\n",
    "input(\"qual linguagem voce está aprendendo?\")"
   ]
  },
  {
   "cell_type": "markdown",
   "id": "7f040135-3f97-4ed2-be43-12e323792a64",
   "metadata": {},
   "source": [
    "## Armazenando dados em uma variável"
   ]
  },
  {
   "cell_type": "code",
   "execution_count": 10,
   "id": "795208a8-10b3-4110-973b-974c4451203b",
   "metadata": {},
   "outputs": [],
   "source": [
    "nome = \"Henrique\""
   ]
  },
  {
   "cell_type": "markdown",
   "id": "81b15627-cffa-42c9-964e-831db0fe6940",
   "metadata": {},
   "source": [
    "print(nome)"
   ]
  },
  {
   "cell_type": "code",
   "execution_count": 5,
   "id": "bace5fe2-f294-4f7a-a554-aad3149b7ef3",
   "metadata": {},
   "outputs": [
    {
     "name": "stdin",
     "output_type": "stream",
     "text": [
      "Digite a descrição do projeto Desenvolvimento Sistema Python\n",
      "Digite a quantidade de horas previstas:  200\n",
      "Digite o valor da hora trabalhada:  200\n",
      "Digite o prazo do projeto:  3 meses\n"
     ]
    }
   ],
   "source": [
    "projeto = input(\"Digite a descrição do projeto\")\n",
    "horas_previstas = input(\"Digite a quantidade de horas previstas: \")\n",
    "valor_hora = input(\"Digite o valor da hora trabalhada: \")\n",
    "prazo = input(\"Digite o prazo do projeto: \")"
   ]
  },
  {
   "cell_type": "code",
   "execution_count": 6,
   "id": "829e0370-fd14-49e3-9990-a51f52d56a07",
   "metadata": {},
   "outputs": [
    {
     "name": "stdout",
     "output_type": "stream",
     "text": [
      "Desenvolvimento Sistema Python\n"
     ]
    }
   ],
   "source": [
    "print(projeto)"
   ]
  },
  {
   "cell_type": "markdown",
   "id": "c5d796fd-10c9-4c24-9de5-9c60b54f206b",
   "metadata": {},
   "source": [
    "## Realizando Cálculos na linguagem Python\n",
    "Valor total do projeto = horas previstas*Valor da hora"
   ]
  },
  {
   "cell_type": "code",
   "execution_count": 7,
   "id": "537d116a-10fe-45e5-8691-698e29db17b2",
   "metadata": {},
   "outputs": [],
   "source": [
    "valor_total = int(valor_hora)*int(horas_previstas)"
   ]
  },
  {
   "cell_type": "code",
   "execution_count": 8,
   "id": "47b7c07c-e3fb-4008-8e95-cde8bad0bdc9",
   "metadata": {},
   "outputs": [
    {
     "data": {
      "text/plain": [
       "40000"
      ]
     },
     "execution_count": 8,
     "metadata": {},
     "output_type": "execute_result"
    }
   ],
   "source": [
    "valor_total"
   ]
  },
  {
   "cell_type": "markdown",
   "id": "63509c91-ca0c-4eac-9e61-6738d7966956",
   "metadata": {},
   "source": [
    "## Tipos de dados\n",
    "- Texto: str\n",
    "- Números: int"
   ]
  },
  {
   "cell_type": "code",
   "execution_count": 9,
   "id": "cb95dfbc-1e0e-4de6-b659-dddf33675206",
   "metadata": {},
   "outputs": [
    {
     "data": {
      "text/plain": [
       "str"
      ]
     },
     "execution_count": 9,
     "metadata": {},
     "output_type": "execute_result"
    }
   ],
   "source": [
    "type(\"10\")"
   ]
  },
  {
   "cell_type": "markdown",
   "id": "3d4f884c-bde3-446d-8746-bd18943e40ae",
   "metadata": {},
   "source": [
    "## Gerando PDF do Orçamento"
   ]
  },
  {
   "cell_type": "code",
   "execution_count": 10,
   "id": "4a39efa1-ad45-49e7-a34b-3b9655217d6c",
   "metadata": {},
   "outputs": [
    {
     "name": "stdout",
     "output_type": "stream",
     "text": [
      "Requirement already satisfied: fpdf in c:\\users\\samuel\\anaconda3\\lib\\site-packages (1.7.2)\n"
     ]
    }
   ],
   "source": [
    "!pip install fpdf"
   ]
  },
  {
   "cell_type": "code",
   "execution_count": 2,
   "id": "42635669-611e-4a57-8318-4238c856097d",
   "metadata": {},
   "outputs": [],
   "source": [
    "from fpdf import FPDF"
   ]
  },
  {
   "cell_type": "code",
   "execution_count": 11,
   "id": "c12dc4d8-991e-48e4-ad8b-4981218142bf",
   "metadata": {},
   "outputs": [
    {
     "name": "stdout",
     "output_type": "stream",
     "text": [
      "Orçamento gerado com sucesso\n"
     ]
    }
   ],
   "source": [
    "pdf = FPDF()\n",
    "\n",
    "pdf.add_page()\n",
    "pdf.set_font(\"Arial\")\n",
    "pdf.image(\"template.png\",x=0,y=0)\n",
    "\n",
    "pdf.text(115, 145, projeto)\n",
    "pdf.text(115, 160, horas_previstas)\n",
    "pdf.text(115 , 175, valor_hora)\n",
    "pdf.text(115, 190, prazo)\n",
    "pdf.text(115,205, str(valor_total))\n",
    "\n",
    "pdf.output(\"orçamento.pdf\")\n",
    "\n",
    "print(\"Orçamento gerado com sucesso\")"
   ]
  },
  {
   "cell_type": "code",
   "execution_count": null,
   "id": "70128d6c-12a5-43a3-b434-dd1743ed0f72",
   "metadata": {},
   "outputs": [],
   "source": []
  },
  {
   "cell_type": "code",
   "execution_count": null,
   "id": "cefa5723-9897-4708-b37f-565c4569208f",
   "metadata": {},
   "outputs": [],
   "source": []
  },
  {
   "cell_type": "code",
   "execution_count": null,
   "id": "6b2306ed-6b32-41c7-946a-5e07932d963a",
   "metadata": {},
   "outputs": [],
   "source": []
  },
  {
   "cell_type": "code",
   "execution_count": null,
   "id": "660e8be4-41c9-4af0-add8-b6060d0b9093",
   "metadata": {},
   "outputs": [],
   "source": []
  },
  {
   "cell_type": "code",
   "execution_count": null,
   "id": "9f674f96-5b54-4d41-906e-b4c33beb5fa5",
   "metadata": {},
   "outputs": [],
   "source": []
  }
 ],
 "metadata": {
  "kernelspec": {
   "display_name": "Python 3 (ipykernel)",
   "language": "python",
   "name": "python3"
  },
  "language_info": {
   "codemirror_mode": {
    "name": "ipython",
    "version": 3
   },
   "file_extension": ".py",
   "mimetype": "text/x-python",
   "name": "python",
   "nbconvert_exporter": "python",
   "pygments_lexer": "ipython3",
   "version": "3.11.7"
  }
 },
 "nbformat": 4,
 "nbformat_minor": 5
}
