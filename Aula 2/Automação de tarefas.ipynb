{
 "cells": [
  {
   "cell_type": "markdown",
   "id": "81f623ba-402a-4cc4-8e15-d4846a6b28cd",
   "metadata": {},
   "source": [
    "# Automação de tarefas"
   ]
  },
  {
   "cell_type": "markdown",
   "id": "5fe7d214-1026-4cdc-9ab8-3f6e2276b3fc",
   "metadata": {},
   "source": [
    "## Problema a ser resolvido\n",
    "- buscar automaticamente os dados das ações no site da yahoo!\n",
    "- Analisar os dados das ações de acordo com a solicitação do gestor.\n",
    "- enviar um e-mail com todas as análises de forma automatica"
   ]
  },
  {
   "cell_type": "markdown",
   "id": "811fb01f-299d-41ee-88ed-e5ba1e03c47e",
   "metadata": {},
   "source": [
    "# Passo 1- Buscar automaticamente os dados das ações no site do yahoo!"
   ]
  },
  {
   "cell_type": "code",
   "execution_count": 1,
   "id": "3147c3ce-c694-48d4-b4ed-ca644513e8d1",
   "metadata": {},
   "outputs": [
    {
     "name": "stdout",
     "output_type": "stream",
     "text": [
      "Collecting yfinance\n",
      "  Downloading yfinance-0.2.37-py2.py3-none-any.whl.metadata (11 kB)\n",
      "Requirement already satisfied: pandas>=1.3.0 in c:\\users\\samuel\\anaconda3\\lib\\site-packages (from yfinance) (2.1.4)\n",
      "Requirement already satisfied: numpy>=1.16.5 in c:\\users\\samuel\\anaconda3\\lib\\site-packages (from yfinance) (1.26.4)\n",
      "Requirement already satisfied: requests>=2.31 in c:\\users\\samuel\\anaconda3\\lib\\site-packages (from yfinance) (2.31.0)\n",
      "Collecting multitasking>=0.0.7 (from yfinance)\n",
      "  Downloading multitasking-0.0.11-py3-none-any.whl.metadata (5.5 kB)\n",
      "Requirement already satisfied: lxml>=4.9.1 in c:\\users\\samuel\\anaconda3\\lib\\site-packages (from yfinance) (4.9.3)\n",
      "Requirement already satisfied: appdirs>=1.4.4 in c:\\users\\samuel\\anaconda3\\lib\\site-packages (from yfinance) (1.4.4)\n",
      "Requirement already satisfied: pytz>=2022.5 in c:\\users\\samuel\\anaconda3\\lib\\site-packages (from yfinance) (2023.3.post1)\n",
      "Collecting frozendict>=2.3.4 (from yfinance)\n",
      "  Downloading frozendict-2.4.0.tar.gz (314 kB)\n",
      "     ---------------------------------------- 0.0/314.6 kB ? eta -:--:--\n",
      "     - -------------------------------------- 10.2/314.6 kB ? eta -:--:--\n",
      "     ---------- ---------------------------- 81.9/314.6 kB 1.5 MB/s eta 0:00:01\n",
      "     -------------------------------------- 314.6/314.6 kB 3.2 MB/s eta 0:00:00\n",
      "  Installing build dependencies: started\n",
      "  Installing build dependencies: finished with status 'done'\n",
      "  Getting requirements to build wheel: started\n",
      "  Getting requirements to build wheel: finished with status 'done'\n",
      "  Preparing metadata (pyproject.toml): started\n",
      "  Preparing metadata (pyproject.toml): finished with status 'done'\n",
      "Collecting peewee>=3.16.2 (from yfinance)\n",
      "  Downloading peewee-3.17.1.tar.gz (3.0 MB)\n",
      "     ---------------------------------------- 0.0/3.0 MB ? eta -:--:--\n",
      "     ------ --------------------------------- 0.5/3.0 MB 13.8 MB/s eta 0:00:01\n",
      "     ------------- -------------------------- 1.0/3.0 MB 12.4 MB/s eta 0:00:01\n",
      "     --------------------- ------------------ 1.6/3.0 MB 12.4 MB/s eta 0:00:01\n",
      "     ---------------------------- ----------- 2.1/3.0 MB 12.0 MB/s eta 0:00:01\n",
      "     ----------------------------------- ---- 2.6/3.0 MB 12.0 MB/s eta 0:00:01\n",
      "     ---------------------------------------- 3.0/3.0 MB 11.1 MB/s eta 0:00:00\n",
      "  Installing build dependencies: started\n",
      "  Installing build dependencies: finished with status 'done'\n",
      "  Getting requirements to build wheel: started\n",
      "  Getting requirements to build wheel: finished with status 'done'\n",
      "  Preparing metadata (pyproject.toml): started\n",
      "  Preparing metadata (pyproject.toml): finished with status 'done'\n",
      "Requirement already satisfied: beautifulsoup4>=4.11.1 in c:\\users\\samuel\\anaconda3\\lib\\site-packages (from yfinance) (4.12.2)\n",
      "Collecting html5lib>=1.1 (from yfinance)\n",
      "  Downloading html5lib-1.1-py2.py3-none-any.whl.metadata (16 kB)\n",
      "Requirement already satisfied: soupsieve>1.2 in c:\\users\\samuel\\anaconda3\\lib\\site-packages (from beautifulsoup4>=4.11.1->yfinance) (2.5)\n",
      "Requirement already satisfied: six>=1.9 in c:\\users\\samuel\\anaconda3\\lib\\site-packages (from html5lib>=1.1->yfinance) (1.16.0)\n",
      "Requirement already satisfied: webencodings in c:\\users\\samuel\\anaconda3\\lib\\site-packages (from html5lib>=1.1->yfinance) (0.5.1)\n",
      "Requirement already satisfied: python-dateutil>=2.8.2 in c:\\users\\samuel\\anaconda3\\lib\\site-packages (from pandas>=1.3.0->yfinance) (2.8.2)\n",
      "Requirement already satisfied: tzdata>=2022.1 in c:\\users\\samuel\\anaconda3\\lib\\site-packages (from pandas>=1.3.0->yfinance) (2023.3)\n",
      "Requirement already satisfied: charset-normalizer<4,>=2 in c:\\users\\samuel\\anaconda3\\lib\\site-packages (from requests>=2.31->yfinance) (2.0.4)\n",
      "Requirement already satisfied: idna<4,>=2.5 in c:\\users\\samuel\\anaconda3\\lib\\site-packages (from requests>=2.31->yfinance) (3.4)\n",
      "Requirement already satisfied: urllib3<3,>=1.21.1 in c:\\users\\samuel\\anaconda3\\lib\\site-packages (from requests>=2.31->yfinance) (2.0.7)\n",
      "Requirement already satisfied: certifi>=2017.4.17 in c:\\users\\samuel\\anaconda3\\lib\\site-packages (from requests>=2.31->yfinance) (2024.2.2)\n",
      "Downloading yfinance-0.2.37-py2.py3-none-any.whl (72 kB)\n",
      "   ---------------------------------------- 0.0/73.0 kB ? eta -:--:--\n",
      "   ---------------------------------------- 73.0/73.0 kB 4.2 MB/s eta 0:00:00\n",
      "Downloading html5lib-1.1-py2.py3-none-any.whl (112 kB)\n",
      "   ---------------------------------------- 0.0/112.2 kB ? eta -:--:--\n",
      "   ---------------------------------------- 112.2/112.2 kB 6.8 MB/s eta 0:00:00\n",
      "Downloading multitasking-0.0.11-py3-none-any.whl (8.5 kB)\n",
      "Building wheels for collected packages: frozendict, peewee\n",
      "  Building wheel for frozendict (pyproject.toml): started\n",
      "  Building wheel for frozendict (pyproject.toml): finished with status 'done'\n",
      "  Created wheel for frozendict: filename=frozendict-2.4.0-py3-none-any.whl size=15471 sha256=1ec857e82102a540ad905f5b50f2dc495b83dd6f3ca432b3595711c929ae511d\n",
      "  Stored in directory: c:\\users\\samuel\\appdata\\local\\pip\\cache\\wheels\\31\\dd\\81\\a814e6f8cde8a1bbc1f088fdc273943371f10478b91a605e14\n",
      "  Building wheel for peewee (pyproject.toml): started\n",
      "  Building wheel for peewee (pyproject.toml): finished with status 'done'\n",
      "  Created wheel for peewee: filename=peewee-3.17.1-py3-none-any.whl size=136948 sha256=249d33a1eda69ad5b62d41651e195888cf5ab330d0df180386b1b8f170d37ffd\n",
      "  Stored in directory: c:\\users\\samuel\\appdata\\local\\pip\\cache\\wheels\\33\\d2\\ca\\79b9807826bc7ef0b86a1ee28c372daaf073f9aa8756eedd7f\n",
      "Successfully built frozendict peewee\n",
      "Installing collected packages: peewee, multitasking, html5lib, frozendict, yfinance\n",
      "Successfully installed frozendict-2.4.0 html5lib-1.1 multitasking-0.0.11 peewee-3.17.1 yfinance-0.2.37\n"
     ]
    }
   ],
   "source": [
    "!pip install yfinance"
   ]
  },
  {
   "cell_type": "code",
   "execution_count": 3,
   "id": "62502684-4783-4ade-867f-96f3e7dfa57f",
   "metadata": {},
   "outputs": [],
   "source": [
    "import yfinance"
   ]
  },
  {
   "cell_type": "code",
   "execution_count": 17,
   "id": "d1968fc4-6c05-4a33-8304-73e24bc02cda",
   "metadata": {},
   "outputs": [
    {
     "name": "stdout",
     "output_type": "stream",
     "text": [
      "Digite o código da ação desejada PETR4.SA\n"
     ]
    },
    {
     "data": {
      "text/plain": [
       "Date\n",
       "2023-09-19 00:00:00-03:00    32.934860\n",
       "2023-09-20 00:00:00-03:00    33.011879\n",
       "2023-09-21 00:00:00-03:00    32.501633\n",
       "2023-09-22 00:00:00-03:00    32.761570\n",
       "2023-09-25 00:00:00-03:00    32.973370\n",
       "                               ...    \n",
       "2024-03-13 00:00:00-03:00    36.380001\n",
       "2024-03-14 00:00:00-03:00    36.220001\n",
       "2024-03-15 00:00:00-03:00    36.320000\n",
       "2024-03-18 00:00:00-03:00    36.340000\n",
       "2024-03-19 00:00:00-03:00    36.070000\n",
       "Name: Close, Length: 123, dtype: float64"
      ]
     },
     "execution_count": 17,
     "metadata": {},
     "output_type": "execute_result"
    }
   ],
   "source": [
    "codigo = input(\"Digite o código da ação desejada\")\n",
    "dados = yfinance.Ticker(codigo).history(\"6mo\")\n",
    "fechamento= dados.Close\n",
    "fechamento"
   ]
  },
  {
   "cell_type": "markdown",
   "id": "cf06cf86-ecf7-42ec-8ae2-da4aaf22a043",
   "metadata": {},
   "source": [
    "## Passo 2 - Análises solicitadas pelo gestor\n",
    "- A análise dos últimos seis meses\n",
    "- cotação maximo\n",
    "- cotação mínimo\n",
    "- cotação atual"
   ]
  },
  {
   "cell_type": "code",
   "execution_count": 28,
   "id": "44e64b55-d332-4e93-bb1f-d6bff7421d5f",
   "metadata": {},
   "outputs": [],
   "source": [
    "# cotação maxima\n",
    "maxima = fechamento.max()\n",
    "minimo = fechamento.min()\n",
    "atual = fechamento.iloc[-1]"
   ]
  },
  {
   "cell_type": "markdown",
   "id": "f14a5201-e55f-4a06-9cc9-cf6a7a8e2ce8",
   "metadata": {},
   "source": [
    "## Automatizando o envio de e-mail.\n",
    "- abrir uma nova aba(ctrl+T)\n",
    "- escrever o endereço do Gmail e apertar enter\n",
    "- clicar no botão escrever\n",
    "- preencher destinatario, tab\n",
    "- preencher o assunto, tab\n",
    "- preencher o corpo do email.\n",
    "- clicar no botão enviar"
   ]
  },
  {
   "cell_type": "code",
   "execution_count": 47,
   "id": "3720da15-6568-4ddc-bd19-a36352b3b77a",
   "metadata": {},
   "outputs": [
    {
     "name": "stdout",
     "output_type": "stream",
     "text": [
      "Requirement already satisfied: pyautoGUI in c:\\users\\samuel\\anaconda3\\lib\\site-packages (0.9.54)\n",
      "Requirement already satisfied: pymsgbox in c:\\users\\samuel\\anaconda3\\lib\\site-packages (from pyautoGUI) (1.0.9)\n",
      "Requirement already satisfied: pytweening>=1.0.4 in c:\\users\\samuel\\anaconda3\\lib\\site-packages (from pyautoGUI) (1.2.0)\n",
      "Requirement already satisfied: pyscreeze>=0.1.21 in c:\\users\\samuel\\anaconda3\\lib\\site-packages (from pyautoGUI) (0.1.30)\n",
      "Requirement already satisfied: pygetwindow>=0.0.5 in c:\\users\\samuel\\anaconda3\\lib\\site-packages (from pyautoGUI) (0.0.9)\n",
      "Requirement already satisfied: mouseinfo in c:\\users\\samuel\\anaconda3\\lib\\site-packages (from pyautoGUI) (0.1.3)\n",
      "Requirement already satisfied: pyrect in c:\\users\\samuel\\anaconda3\\lib\\site-packages (from pygetwindow>=0.0.5->pyautoGUI) (0.2.0)\n",
      "Requirement already satisfied: Pillow>=9.3.0 in c:\\users\\samuel\\anaconda3\\lib\\site-packages (from pyscreeze>=0.1.21->pyautoGUI) (10.2.0)\n",
      "Requirement already satisfied: pyperclip in c:\\users\\samuel\\anaconda3\\lib\\site-packages (from mouseinfo->pyautoGUI) (1.8.2)\n",
      "Requirement already satisfied: pyperclip in c:\\users\\samuel\\anaconda3\\lib\\site-packages (1.8.2)\n"
     ]
    }
   ],
   "source": [
    "# instalando o pyaytoGUI\n",
    "!pip install pyautoGUI\n",
    "!pip install pyperclip"
   ]
  },
  {
   "cell_type": "code",
   "execution_count": 58,
   "id": "d506a061-9ab3-438e-93fa-4a4e0c4d62b0",
   "metadata": {},
   "outputs": [],
   "source": [
    "import pyperclip\n",
    "import pyautogui"
   ]
  },
  {
   "cell_type": "code",
   "execution_count": 6,
   "id": "adadb511-b78c-4b48-b919-8a447144a371",
   "metadata": {},
   "outputs": [
    {
     "ename": "NameError",
     "evalue": "name 'pyautogui' is not defined",
     "output_type": "error",
     "traceback": [
      "\u001b[1;31m---------------------------------------------------------------------------\u001b[0m",
      "\u001b[1;31mNameError\u001b[0m                                 Traceback (most recent call last)",
      "Cell \u001b[1;32mIn[6], line 2\u001b[0m\n\u001b[0;32m      1\u001b[0m \u001b[38;5;66;03m#configurando uma pausaentre os passos\u001b[39;00m\n\u001b[1;32m----> 2\u001b[0m pyautogui\u001b[38;5;241m.\u001b[39mPAUSE\u001b[38;5;241m=\u001b[39m\u001b[38;5;241m2\u001b[39m\n\u001b[0;32m      4\u001b[0m \u001b[38;5;66;03m#abrir uma nova aba(ctrl+t)\u001b[39;00m\n\u001b[0;32m      5\u001b[0m pyautogui\u001b[38;5;241m.\u001b[39mhotkey(\u001b[38;5;124m\"\u001b[39m\u001b[38;5;124mctrl\u001b[39m\u001b[38;5;124m\"\u001b[39m,\u001b[38;5;124m\"\u001b[39m\u001b[38;5;124mt\u001b[39m\u001b[38;5;124m\"\u001b[39m)\n",
      "\u001b[1;31mNameError\u001b[0m: name 'pyautogui' is not defined"
     ]
    }
   ],
   "source": [
    "#configurando uma pausaentre os passos\n",
    "pyautogui.PAUSE=2\n",
    "\n",
    "#abrir uma nova aba(ctrl+t)\n",
    "pyautogui.hotkey(\"ctrl\",\"t\")\n",
    "\n",
    "#escrever o endereço do Gmail e apertar enter\n",
    "pyperclip.copy(\"www.gmail.com\")\n",
    "pyautogui.hotkey(\"ctrl\",\"v\")\n",
    "pyautogui.hotkey(\"enter\")\n",
    "\n",
    "#clicar no botão escrever\n",
    "pyautogui.click(x=94, y=225)\n",
    "\n",
    "#preencher o destinario,tab\n",
    "pyperclip.copy(\"samuelhenrique89@hotmail.com\")\n",
    "pyautogui.hotkey(\"ctrl\",\"v\")\n",
    "pyautogui.hotkey(\"tab\")\n",
    "\n",
    "\n",
    "#preencher o assunto, tab\n",
    "pyperclip.copy(\"Análises diárias\")\n",
    "pyautogui.hotkey(\"ctrl\",\"v\")\n",
    "pyautogui.hotkey(\"tab\")\n",
    "\n",
    "#preencher o corpo do email\n",
    "\n",
    "mensagem = f\"\"\"\n",
    "Prezado Gestor,\n",
    "segue as analises dos ultimos seies meses da ação {codigo} conforme solicitado\n",
    "cotação maxima = {round(maxima,2)}\n",
    "cotação minima={round(minimo,2)}\n",
    "cotação atual= {round(atual,2)}\n",
    "\n",
    "qualquer duvida, estou a disposição\n",
    "\n",
    "att\n",
    "\"\"\"\n",
    "pyperclip.copy(mensagem)\n",
    "pyautogui.hotkey(\"ctrl\",\"v\")\n",
    "\n",
    "pyautogui.click(x=1941, y=1002)"
   ]
  },
  {
   "cell_type": "code",
   "execution_count": null,
   "id": "43f0f44a-dcf6-472c-b322-b86da64699ef",
   "metadata": {},
   "outputs": [
    {
     "data": {
      "text/plain": [
       "Point(x=1941, y=1002)"
      ]
     },
     "execution_count": 64,
     "metadata": {},
     "output_type": "execute_result"
    }
   ],
   "source": [
    "import time\n",
    "\n",
    "time.sleep(5)\n",
    "pyautogui.position()"
   ]
  },
  {
   "cell_type": "code",
   "execution_count": null,
   "id": "a85ecfba-f80a-4cf5-8002-5d9443bead1f",
   "metadata": {},
   "outputs": [],
   "source": []
  },
  {
   "cell_type": "code",
   "execution_count": null,
   "id": "04bd01ec-ef71-4dc9-a084-43f7ac534eca",
   "metadata": {},
   "outputs": [],
   "source": []
  },
  {
   "cell_type": "code",
   "execution_count": null,
   "id": "2dd44519-3002-4dfb-9527-4e0293201139",
   "metadata": {},
   "outputs": [],
   "source": []
  },
  {
   "cell_type": "code",
   "execution_count": null,
   "id": "67cb11b4-b591-424d-9512-1d2f933cc907",
   "metadata": {},
   "outputs": [],
   "source": []
  },
  {
   "cell_type": "code",
   "execution_count": null,
   "id": "104cc5df-dd4c-4460-96c5-edfc444701d3",
   "metadata": {},
   "outputs": [],
   "source": []
  },
  {
   "cell_type": "code",
   "execution_count": null,
   "id": "2a2c9ef3-f629-4909-8d4f-490c78cde0ff",
   "metadata": {},
   "outputs": [],
   "source": []
  },
  {
   "cell_type": "code",
   "execution_count": null,
   "id": "249c85af-0321-421a-97a4-c4e54fc910e1",
   "metadata": {},
   "outputs": [],
   "source": []
  }
 ],
 "metadata": {
  "kernelspec": {
   "display_name": "Python 3 (ipykernel)",
   "language": "python",
   "name": "python3"
  },
  "language_info": {
   "codemirror_mode": {
    "name": "ipython",
    "version": 3
   },
   "file_extension": ".py",
   "mimetype": "text/x-python",
   "name": "python",
   "nbconvert_exporter": "python",
   "pygments_lexer": "ipython3",
   "version": "3.11.7"
  }
 },
 "nbformat": 4,
 "nbformat_minor": 5
}
